{
 "cells": [
  {
   "cell_type": "markdown",
   "metadata": {},
   "source": [
    "# 一、比赛基本信息\n",
    "## 比赛名称\n",
    "零基础入门数据挖掘 - 二手车交易价格预测\n",
    "## 比赛网址\n",
    "https://tianchi.aliyun.com/competition/entrance/231784/information\n",
    "## 参考资料\n",
    "https://github.com/datawhalechina/team-learning/tree/master/%E6%95%B0%E6%8D%AE%E6%8C%96%E6%8E%98%E5%AE%9E%E8%B7%B5%EF%BC%88%E4%BA%8C%E6%89%8B%E8%BD%A6%E4%BB%B7%E6%A0%BC%E9%A2%84%E6%B5%8B%EF%BC%89"
   ]
  },
  {
   "cell_type": "markdown",
   "metadata": {},
   "source": [
    "# 二、赛题数据\n",
    "## 数据集\n",
    "- 训练集：15万条 ./data/used_car_train_20200313.csv\n",
    "- 测试集A：5万条 ./data/used_car_testA_20200313.csv\n",
    "- 测试集B：5万条\n",
    "\n",
    "## 预测字段\n",
    "二手车的交易价格price，是一个回归问题。\n",
    "\n",
    "## 特征字段\n",
    "31列变量信息，其中15列为匿名变量，字段表如下：\n",
    "\n",
    "|Field\t| Description |\n",
    "| ----  | ---- |\n",
    "|SaleID\t|交易ID，唯一编码 |\n",
    "|name\t|汽车交易名称，已脱敏|\n",
    "|regDate\t|汽车注册日期，例如20160101，2016年01月01日|\n",
    "|model\t|车型编码，已脱敏|\n",
    "|brand\t|汽车品牌，已脱敏|\n",
    "|bodyType\t|车身类型：豪华轿车：0，微型车：1，厢型车：2，大巴车：3，敞篷车：4，双门汽车：5，商务车：6，搅拌车：7|\n",
    "|fuelType\t|燃油类型：汽油：0，柴油：1，液化石油气：2，天然气：3，混合动力：4，其他：5，电动：6|\n",
    "|gearbox\t|变速箱：手动：0，自动：1|\n",
    "|power\t|发动机功率：范围 [ 0, 600 ]|\n",
    "|kilometer\t|汽车已行驶公里，单位万km|\n",
    "|notRepairedDamage\t|汽车有尚未修复的损坏：是：0，否：1|\n",
    "|regionCode\t|地区编码，已脱敏|\n",
    "|seller\t|销售方：个体：0，非个体：1|\n",
    "|offerType\t|报价类型：提供：0，请求：1|\n",
    "|creatDate\t|汽车上线时间，即开始售卖时间|\n",
    "|price\t|二手车交易价格（预测目标）|\n",
    "|v系列特征\t|匿名特征，包含v0-14在内15个匿名特征，是根据汽车的评论、标签等大量信息人工构造的embedding向量|\n",
    "\n",
    "二手车相关信息见@Overfitting is watching you队整理的相关信息：https://shimo.im/docs/RhQKcjD8qtw9XQYt/read"
   ]
  },
  {
   "cell_type": "markdown",
   "metadata": {},
   "source": [
    "# 三、评测标准\n",
    "本赛题采用MAE作为评测指标，MAE越小越好\n",
    "$$ MAE=\\frac{\\sum_{i=1}^{n}\\left|y_{i}-\\hat{y}_{i}\\right|}{n} $$ 其中$y{i}$代表第$i$个样本的真实值，其中$\\hat{y}_{i}$代表第$i$个样本的预测值。"
   ]
  },
  {
   "cell_type": "markdown",
   "metadata": {},
   "source": [
    "## 常见的评估指标\n",
    "分类算法常见的评估指标如下：\n",
    "- 对于二类分类器/分类算法，评价指标主要有accuracy， [Precision，Recall，F-score，Pr曲线]，ROC-AUC曲线。\n",
    "\n",
    "- 对于多类分类器/分类算法，评价指标主要有accuracy， [宏平均和微平均，F-score]。\n",
    "\n",
    "对于回归预测类常见的评估指标如下:\n",
    "- 平均绝对误差（Mean Absolute Error，MAE）:其能更好地反映预测值与真实值误差的实际情况，其计算公式如下：$$ MAE=\\frac{1}{N} \\sum_{i=1}^{N}\\left|y_{i}-\\hat{y}_{i}\\right| $$\n",
    "- 均方误差（Mean Squared Error，MSE）： $$ MSE=\\frac{1}{N} \\sum_{i=1}^{N}\\left(y_{i}-\\hat{y}_{i}\\right)^{2} $$\n",
    "- 均方根误差（Root Mean Squared Error，RMSE）\n",
    "- 平均绝对百分误差（Mean Absolute Percentage Error，MAPE）\n",
    "- R2（R-Square）的公式为：$$ R^{2}=1-\\frac{SS_{res}}{SS_{tot}}=1-\\frac{\\sum\\left(y_{i}-\\hat{y}{i}\\right)^{2}}{\\sum\\left(y{i}-\\overline{y}\\right)^{2}} $$\n",
    "其中，残差平方和： $$ SS_{res}=\\sum\\left(y_{i}-\\hat{y}{i}\\right)^{2} $$\n",
    "总平均值: $$ SS{tot}=\\sum\\left(y_{i}-\\overline{y}_{i}\\right)^{2} $$\n",
    "$y_{i}$表示真实值，$\\hat{y}{i}$表示预测值，$\\overline{y}{i}$表示样本均值。$R^2$用于度量因变量的变异中可由自变量解释部分所占的比例，取值范围是 0~1，$R^2$越接近1,表明回归平方和占总平方和的比例越大,回归线与各观测点越接近，用x的变化来解释y值变化的部分就越多,回归的拟合程度就越好。所以$R^2$也称为拟合优度（Goodness of Fit）的统计量，得分越高拟合效果越好。"
   ]
  },
  {
   "cell_type": "markdown",
   "metadata": {},
   "source": [
    "## 常见评估指标的代码实现"
   ]
  },
  {
   "cell_type": "code",
   "execution_count": 1,
   "metadata": {},
   "outputs": [
    {
     "name": "stdout",
     "output_type": "stream",
     "text": [
      "ACC: 0.75\n"
     ]
    }
   ],
   "source": [
    "## accuracy\n",
    "import numpy as np\n",
    "from sklearn.metrics import accuracy_score\n",
    "y_pred = [0, 1, 0, 1]\n",
    "y_true = [0, 1, 1, 1]\n",
    "print('ACC:',accuracy_score(y_true, y_pred))"
   ]
  },
  {
   "cell_type": "code",
   "execution_count": 2,
   "metadata": {},
   "outputs": [
    {
     "name": "stdout",
     "output_type": "stream",
     "text": [
      "Precision 1.0\n",
      "Recall 0.5\n",
      "F1-score: 0.6666666666666666\n"
     ]
    }
   ],
   "source": [
    "## Precision,Recall,F1-score\n",
    "from sklearn import metrics\n",
    "y_pred = [0, 1, 0, 0]\n",
    "y_true = [0, 1, 0, 1]\n",
    "print('Precision',metrics.precision_score(y_true, y_pred))\n",
    "print('Recall',metrics.recall_score(y_true, y_pred))\n",
    "print('F1-score:',metrics.f1_score(y_true, y_pred))"
   ]
  },
  {
   "cell_type": "code",
   "execution_count": 3,
   "metadata": {},
   "outputs": [
    {
     "name": "stdout",
     "output_type": "stream",
     "text": [
      "AUC socre: 0.75\n"
     ]
    }
   ],
   "source": [
    "## AUC\n",
    "import numpy as np\n",
    "from sklearn.metrics import roc_auc_score\n",
    "y_true = np.array([0, 0, 1, 1])\n",
    "y_scores = np.array([0.1, 0.4, 0.35, 0.8])\n",
    "print('AUC socre:',roc_auc_score(y_true, y_scores))"
   ]
  },
  {
   "cell_type": "code",
   "execution_count": 4,
   "metadata": {},
   "outputs": [
    {
     "name": "stdout",
     "output_type": "stream",
     "text": [
      "MSE: 0.2871428571428571\n",
      "RMSE: 0.5358571238146014\n",
      "MAE: 0.4142857142857143\n",
      "MAPE: 0.1461904761904762\n"
     ]
    }
   ],
   "source": [
    "# coding=utf-8\n",
    "import numpy as np\n",
    "from sklearn import metrics\n",
    "\n",
    "# MAPE需要自己实现\n",
    "def mape(y_true, y_pred):\n",
    "    return np.mean(np.abs((y_pred - y_true) / y_true))\n",
    "\n",
    "y_true = np.array([1.0, 5.0, 4.0, 3.0, 2.0, 5.0, -3.0])\n",
    "y_pred = np.array([1.0, 4.5, 3.8, 3.2, 3.0, 4.8, -2.2])\n",
    "\n",
    "# MSE\n",
    "print('MSE:',metrics.mean_squared_error(y_true, y_pred))\n",
    "# RMSE\n",
    "print('RMSE:',np.sqrt(metrics.mean_squared_error(y_true, y_pred)))\n",
    "# MAE\n",
    "print('MAE:',metrics.mean_absolute_error(y_true, y_pred))\n",
    "# MAPE\n",
    "print('MAPE:',mape(y_true, y_pred))"
   ]
  },
  {
   "cell_type": "code",
   "execution_count": 5,
   "metadata": {},
   "outputs": [
    {
     "name": "stdout",
     "output_type": "stream",
     "text": [
      "R2-score: 0.9486081370449679\n"
     ]
    }
   ],
   "source": [
    "## R2-score\n",
    "from sklearn.metrics import r2_score\n",
    "y_true = [3, -0.5, 2, 7]\n",
    "y_pred = [2.5, 0.0, 2, 8]\n",
    "print('R2-score:',r2_score(y_true, y_pred))"
   ]
  },
  {
   "cell_type": "markdown",
   "metadata": {},
   "source": [
    "# 四、结果提交形式"
   ]
  },
  {
   "cell_type": "markdown",
   "metadata": {},
   "source": [
    "与./data/used_car_sample_submit.csv中的格式一致，形式如下：\n",
    "\n",
    "SaleID,price\n",
    "\n",
    "150000,687\n",
    "\n",
    "150001,1250\n",
    "\n",
    "150002,2580\n",
    "\n",
    "150003,1178"
   ]
  }
 ],
 "metadata": {
  "kernelspec": {
   "display_name": "Python 3",
   "language": "python",
   "name": "python3"
  },
  "language_info": {
   "codemirror_mode": {
    "name": "ipython",
    "version": 3
   },
   "file_extension": ".py",
   "mimetype": "text/x-python",
   "name": "python",
   "nbconvert_exporter": "python",
   "pygments_lexer": "ipython3",
   "version": "3.6.2"
  }
 },
 "nbformat": 4,
 "nbformat_minor": 4
}
